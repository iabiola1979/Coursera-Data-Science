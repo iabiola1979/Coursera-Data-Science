{
 "cells": [
  {
   "cell_type": "markdown",
   "id": "a80d01fc-404a-4089-b339-b10ce4e2bd53",
   "metadata": {},
   "source": [
    "#  **Data Science Tools and Ecosystem**"
   ]
  },
  {
   "cell_type": "markdown",
   "id": "39533c65-041c-409a-97ec-aa1c1d27842a",
   "metadata": {},
   "source": [
    "## Author\n",
    "#### Isaac Abiodun Abiola"
   ]
  },
  {
   "cell_type": "code",
   "execution_count": null,
   "id": "b1cfb4b3-d23d-4704-bb59-08c64dae9c20",
   "metadata": {},
   "outputs": [],
   "source": []
  },
  {
   "cell_type": "markdown",
   "id": "76ae47bc-2eab-4e6b-9243-0dc36c70b146",
   "metadata": {},
   "source": [
    "####  In this notebook, Data Science Tools and Ecosystem are summarized.\r\n",
    "\r\n"
   ]
  },
  {
   "cell_type": "markdown",
   "id": "2f85fa62-74a8-4e27-a4e6-be4f60bee4ad",
   "metadata": {},
   "source": [
    "###  **Objectives:*\n",
    "##### -- Introduce R/R Studio\n",
    "##### -- Introduce IBM Watson\n",
    "##### -- Introduce Jupiter Notebook and JupiterLab"
   ]
  },
  {
   "cell_type": "code",
   "execution_count": null,
   "id": "4ddfdc0b-a523-4fdb-b59b-6e1048c068df",
   "metadata": {},
   "outputs": [],
   "source": []
  },
  {
   "cell_type": "markdown",
   "id": "698380c8-2851-4d67-b5eb-5f97e99eac5f",
   "metadata": {},
   "source": [
    "#### Some of the popular languages that Data Scientists use are:\r",
    "#### [Numpy, R/R Studio, SAS, Scala, Scikit-Learn, Statsmodel]\n"
   ]
  },
  {
   "cell_type": "code",
   "execution_count": null,
   "id": "77445c43-12f1-4a59-9506-9389fdbbaeb9",
   "metadata": {},
   "outputs": [],
   "source": [
    "\n"
   ]
  },
  {
   "cell_type": "markdown",
   "id": "9d5401c8-48ea-4863-ab65-df658be3a2ba",
   "metadata": {},
   "source": [
    "#### Some of the commonly used libraries used by Data Scientists include:\n",
    "#### [Keras, Matplotlib, Numpy,  Pandas, PyTorch, Scipy, Statmodels, TensorFlow]\r\n"
   ]
  },
  {
   "cell_type": "code",
   "execution_count": null,
   "id": "2d38182c-1a69-4738-9ba1-c78ad5f98ea8",
   "metadata": {},
   "outputs": [],
   "source": []
  },
  {
   "cell_type": "markdown",
   "id": "9c2e0c81-68a4-4dd3-8950-d2e1b09fa54e",
   "metadata": {},
   "source": [
    "####  Data Science Tools.\n",
    "##### Anaconda Navigator -- Jupiter Notebook, JupiterLab\n",
    "##### IBM Watsonx\n",
    "##### R/Rstudio\n",
    "##### Spyder, PyCharm "
   ]
  },
  {
   "cell_type": "code",
   "execution_count": null,
   "id": "19958e7f-6a31-43d3-a42e-b9422a3762a5",
   "metadata": {},
   "outputs": [],
   "source": []
  },
  {
   "attachments": {},
   "cell_type": "markdown",
   "id": "cb76bb2f-c188-4467-beb4-9546530682ad",
   "metadata": {},
   "source": [
    "### **Below are a few examples of evaluating arithmetic expressions in Python**\r\n",
    "\r\n"
   ]
  },
  {
   "cell_type": "markdown",
   "id": "d2eaa6fc-15b3-4d46-8740-53b62f0cae92",
   "metadata": {},
   "source": [
    "####  This a simple arithmetic expression to mutiply then add integers.\r\n"
   ]
  },
  {
   "cell_type": "code",
   "execution_count": 2,
   "id": "de8d84cf-d2dd-4588-a0af-3ab01d95d8a1",
   "metadata": {},
   "outputs": [
    {
     "data": {
      "text/plain": [
       "17"
      ]
     },
     "execution_count": 2,
     "metadata": {},
     "output_type": "execute_result"
    }
   ],
   "source": [
    "(3*4)+5"
   ]
  },
  {
   "cell_type": "markdown",
   "id": "bf27f415-5d7a-43ca-ab78-c230e2c669fa",
   "metadata": {},
   "source": [
    "#### This will convert 200 minutes to hours by diving by 60.\r\n"
   ]
  },
  {
   "cell_type": "markdown",
   "id": "be003ef1-04f0-49bf-b494-a7f5f15cf47f",
   "metadata": {},
   "source": []
  },
  {
   "cell_type": "code",
   "execution_count": 1,
   "id": "9cfd1899-eea0-4822-bae0-4113aaf50057",
   "metadata": {},
   "outputs": [
    {
     "data": {
      "text/plain": [
       "3.3333333333333335"
      ]
     },
     "execution_count": 1,
     "metadata": {},
     "output_type": "execute_result"
    }
   ],
   "source": [
    "200.0/60."
   ]
  },
  {
   "cell_type": "markdown",
   "id": "2a8aca8d-ec54-4a74-b6ba-992a6a340f66",
   "metadata": {},
   "source": [
    "###  Objectives:\n",
    "#### --Introduce Python\n",
    "####  --Introduce C/C++\n",
    "####  --Introduce Fortran \n",
    "#### --Introduce  C#\n",
    "####  --Introduce Java\n",
    "####  --Introduce SAS\n",
    "####  --Introduce MATLAB\n",
    "####  --Introduce Scala\n"
   ]
  },
  {
   "cell_type": "code",
   "execution_count": null,
   "id": "4e59d5e3-4137-44f1-8e71-b413478c4483",
   "metadata": {},
   "outputs": [],
   "source": []
  },
  {
   "cell_type": "code",
   "execution_count": null,
   "id": "e21e8348-5367-4b8d-8106-cd635a841d5e",
   "metadata": {},
   "outputs": [],
   "source": []
  }
 ],
 "metadata": {
  "kernelspec": {
   "display_name": "Python 3 (ipykernel)",
   "language": "python",
   "name": "python3"
  },
  "language_info": {
   "codemirror_mode": {
    "name": "ipython",
    "version": 3
   },
   "file_extension": ".py",
   "mimetype": "text/x-python",
   "name": "python",
   "nbconvert_exporter": "python",
   "pygments_lexer": "ipython3",
   "version": "3.12.4"
  }
 },
 "nbformat": 4,
 "nbformat_minor": 5
}
